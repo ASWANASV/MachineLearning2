{
 "cells": [
  {
   "cell_type": "code",
   "execution_count": 1,
   "id": "2384067d-3cff-4424-bdd6-88b4d3fbf388",
   "metadata": {},
   "outputs": [],
   "source": [
    "import pandas as pd\n",
    "from sklearn.datasets import load_breast_cancer\n",
    "from sklearn.model_selection import train_test_split\n",
    "from sklearn.preprocessing import StandardScaler\n"
   ]
  },
  {
   "cell_type": "code",
   "execution_count": 3,
   "id": "b1a151c0-7540-4079-819e-c8a9a6dc230e",
   "metadata": {},
   "outputs": [],
   "source": [
    "data = load_breast_cancer()\n",
    "df = pd.DataFrame(data.data, columns=data.feature_names)\n",
    "df['target'] = data.target"
   ]
  },
  {
   "cell_type": "code",
   "execution_count": 5,
   "id": "5e062454-384d-4a8f-a412-4fc0fa345e23",
   "metadata": {},
   "outputs": [],
   "source": [
    "X_train, X_test, y_train, y_test = train_test_split(df.drop('target', axis=1), df['target'], test_size=0.2, random_state=42)\n"
   ]
  },
  {
   "cell_type": "code",
   "execution_count": 7,
   "id": "2c1201f9-a865-4d65-a981-2334ef63a8cf",
   "metadata": {},
   "outputs": [],
   "source": [
    "scaler = StandardScaler()\n",
    "X_train_scaled = scaler.fit_transform(X_train)\n",
    "X_test_scaled = scaler.transform(X_test)"
   ]
  },
  {
   "cell_type": "code",
   "execution_count": 9,
   "id": "6b38cbf6-156b-4d5a-90e0-e17efc122735",
   "metadata": {},
   "outputs": [
    {
     "name": "stdout",
     "output_type": "stream",
     "text": [
      "   mean radius  mean texture  mean perimeter  mean area  mean smoothness  \\\n",
      "0        17.99         10.38          122.80     1001.0          0.11840   \n",
      "1        20.57         17.77          132.90     1326.0          0.08474   \n",
      "2        19.69         21.25          130.00     1203.0          0.10960   \n",
      "3        11.42         20.38           77.58      386.1          0.14250   \n",
      "4        20.29         14.34          135.10     1297.0          0.10030   \n",
      "\n",
      "   mean compactness  mean concavity  mean concave points  mean symmetry  \\\n",
      "0           0.27760          0.3001              0.14710         0.2419   \n",
      "1           0.07864          0.0869              0.07017         0.1812   \n",
      "2           0.15990          0.1974              0.12790         0.2069   \n",
      "3           0.28390          0.2414              0.10520         0.2597   \n",
      "4           0.13280          0.1980              0.10430         0.1809   \n",
      "\n",
      "   mean fractal dimension  ...  worst texture  worst perimeter  worst area  \\\n",
      "0                 0.07871  ...          17.33           184.60      2019.0   \n",
      "1                 0.05667  ...          23.41           158.80      1956.0   \n",
      "2                 0.05999  ...          25.53           152.50      1709.0   \n",
      "3                 0.09744  ...          26.50            98.87       567.7   \n",
      "4                 0.05883  ...          16.67           152.20      1575.0   \n",
      "\n",
      "   worst smoothness  worst compactness  worst concavity  worst concave points  \\\n",
      "0            0.1622             0.6656           0.7119                0.2654   \n",
      "1            0.1238             0.1866           0.2416                0.1860   \n",
      "2            0.1444             0.4245           0.4504                0.2430   \n",
      "3            0.2098             0.8663           0.6869                0.2575   \n",
      "4            0.1374             0.2050           0.4000                0.1625   \n",
      "\n",
      "   worst symmetry  worst fractal dimension  target  \n",
      "0          0.4601                  0.11890       0  \n",
      "1          0.2750                  0.08902       0  \n",
      "2          0.3613                  0.08758       0  \n",
      "3          0.6638                  0.17300       0  \n",
      "4          0.2364                  0.07678       0  \n",
      "\n",
      "[5 rows x 31 columns]\n"
     ]
    }
   ],
   "source": [
    "print(df.head())"
   ]
  },
  {
   "cell_type": "markdown",
   "id": "745a63c1-55de-40cf-984b-fd793d63e237",
   "metadata": {},
   "source": [
    "Classification algorithm implementation"
   ]
  },
  {
   "cell_type": "code",
   "execution_count": 13,
   "id": "cb3ded1a-032d-41c8-ad8e-a12353d8fefa",
   "metadata": {},
   "outputs": [
    {
     "name": "stdout",
     "output_type": "stream",
     "text": [
      "Logistic Regression Accuracy: 0.9736842105263158\n",
      "Classification Report:\n",
      "              precision    recall  f1-score   support\n",
      "\n",
      "           0       0.98      0.95      0.96        43\n",
      "           1       0.97      0.99      0.98        71\n",
      "\n",
      "    accuracy                           0.97       114\n",
      "   macro avg       0.97      0.97      0.97       114\n",
      "weighted avg       0.97      0.97      0.97       114\n",
      "\n",
      "Confusion Matrix:\n",
      "[[41  2]\n",
      " [ 1 70]]\n"
     ]
    }
   ],
   "source": [
    "from sklearn.linear_model import LogisticRegression\n",
    "from sklearn.metrics import accuracy_score, classification_report, confusion_matrix\n",
    "\n",
    "#Initialize the LogisticRegression object\n",
    "lr_model = LogisticRegression(max_iter=1000)\n",
    "\n",
    "#Fit the model to the training data\n",
    "lr_model.fit(X_train_scaled, y_train)\n",
    "\n",
    "#Make predictions on the testing data\n",
    "lr_pred = lr_model.predict(X_test_scaled)\n",
    "\n",
    "#Print the accuracy of the model\n",
    "print(\"Logistic Regression Accuracy:\", accuracy_score(y_test, lr_pred))\n",
    "\n",
    "#Print the classification report\n",
    "print(\"Classification Report:\")\n",
    "print(classification_report(y_test, lr_pred))\n",
    "\n",
    "#Print the confusion matrix\n",
    "print(\"Confusion Matrix:\")\n",
    "print(confusion_matrix(y_test, lr_pred))"
   ]
  },
  {
   "cell_type": "code",
   "execution_count": 15,
   "id": "2da7e560-c6d8-4868-9f6d-be5ed45a03f6",
   "metadata": {},
   "outputs": [
    {
     "name": "stdout",
     "output_type": "stream",
     "text": [
      "Decision Tree Classifier Accuracy: 0.9473684210526315\n",
      "Decision Tree Classifier Classification Report:\n",
      "              precision    recall  f1-score   support\n",
      "\n",
      "           0       0.93      0.93      0.93        43\n",
      "           1       0.96      0.96      0.96        71\n",
      "\n",
      "    accuracy                           0.95       114\n",
      "   macro avg       0.94      0.94      0.94       114\n",
      "weighted avg       0.95      0.95      0.95       114\n",
      "\n",
      "Decision Tree Classifier Confusion Matrix:\n",
      "[[40  3]\n",
      " [ 3 68]]\n"
     ]
    }
   ],
   "source": [
    "from sklearn.tree import DecisionTreeClassifier\n",
    "from sklearn.metrics import accuracy_score, classification_report, confusion_matrix\n",
    "\n",
    "#Initialize the DecisionTreeClassifier object\n",
    "dt_model = DecisionTreeClassifier(random_state=42)\n",
    "\n",
    "#Fit the model to the training data\n",
    "dt_model.fit(X_train_scaled, y_train)\n",
    "\n",
    "#Make predictions on the testing data\n",
    "dt_pred = dt_model.predict(X_test_scaled)\n",
    "\n",
    "#Print the accuracy of the model\n",
    "print(\"Decision Tree Classifier Accuracy:\", accuracy_score(y_test, dt_pred))\n",
    "\n",
    "#Print the classification report\n",
    "print(\"Decision Tree Classifier Classification Report:\")\n",
    "print(classification_report(y_test, dt_pred))\n",
    "\n",
    "#Print the confusion matrix\n",
    "print(\"Decision Tree Classifier Confusion Matrix:\")\n",
    "print(confusion_matrix(y_test, dt_pred))"
   ]
  },
  {
   "cell_type": "code",
   "execution_count": 17,
   "id": "7b595409-b957-455b-b16a-7150f59d48f3",
   "metadata": {},
   "outputs": [
    {
     "name": "stdout",
     "output_type": "stream",
     "text": [
      "Random Forest Classifier Accuracy: 0.9649122807017544\n",
      "Random Forest Classifier Classification Report:\n",
      "              precision    recall  f1-score   support\n",
      "\n",
      "           0       0.98      0.93      0.95        43\n",
      "           1       0.96      0.99      0.97        71\n",
      "\n",
      "    accuracy                           0.96       114\n",
      "   macro avg       0.97      0.96      0.96       114\n",
      "weighted avg       0.97      0.96      0.96       114\n",
      "\n",
      "Random Forest Classifier Confusion Matrix:\n",
      "[[40  3]\n",
      " [ 1 70]]\n"
     ]
    }
   ],
   "source": [
    "from sklearn.ensemble import RandomForestClassifier\n",
    "from sklearn.metrics import accuracy_score, classification_report, confusion_matrix\n",
    "\n",
    "#Initialize the RandomForestClassifier object\n",
    "rf_model = RandomForestClassifier(n_estimators=100, random_state=42)\n",
    "\n",
    "#Fit the model to the training data\n",
    "rf_model.fit(X_train_scaled, y_train)\n",
    "\n",
    "#Make predictions on the testing data\n",
    "rf_pred = rf_model.predict(X_test_scaled)\n",
    "\n",
    "#Print the accuracy of the model\n",
    "print(\"Random Forest Classifier Accuracy:\", accuracy_score(y_test, rf_pred))\n",
    "\n",
    "#Print the classification report\n",
    "print(\"Random Forest Classifier Classification Report:\")\n",
    "print(classification_report(y_test, rf_pred))\n",
    "\n",
    "#Print the confusion matrix\n",
    "print(\"Random Forest Classifier Confusion Matrix:\")\n",
    "print(confusion_matrix(y_test, rf_pred))\n"
   ]
  },
  {
   "cell_type": "code",
   "execution_count": 19,
   "id": "3e845d58-7c8f-4d3e-a5a4-3ec1a7bf9b22",
   "metadata": {},
   "outputs": [
    {
     "name": "stdout",
     "output_type": "stream",
     "text": [
      "Support Vector Machine Accuracy: 0.956140350877193\n",
      "Support Vector Machine Classification Report:\n",
      "              precision    recall  f1-score   support\n",
      "\n",
      "           0       0.93      0.95      0.94        43\n",
      "           1       0.97      0.96      0.96        71\n",
      "\n",
      "    accuracy                           0.96       114\n",
      "   macro avg       0.95      0.96      0.95       114\n",
      "weighted avg       0.96      0.96      0.96       114\n",
      "\n",
      "Support Vector Machine Confusion Matrix:\n",
      "[[41  2]\n",
      " [ 3 68]]\n"
     ]
    }
   ],
   "source": [
    "from sklearn.svm import SVC\n",
    "from sklearn.metrics import accuracy_score, classification_report, confusion_matrix\n",
    "\n",
    "#Initialize the SVC object\n",
    "svm_model = SVC(kernel='linear', probability=True, random_state=42)\n",
    "\n",
    "#Fit the model to the training data\n",
    "svm_model.fit(X_train_scaled, y_train)\n",
    "\n",
    "#Make predictions on the testing data\n",
    "svm_pred = svm_model.predict(X_test_scaled)\n",
    "\n",
    "#Print the accuracy of the model\n",
    "print(\"Support Vector Machine Accuracy:\", accuracy_score(y_test, svm_pred))\n",
    "\n",
    "#Print the classification report\n",
    "print(\"Support Vector Machine Classification Report:\")\n",
    "print(classification_report(y_test, svm_pred))\n",
    "\n",
    "#Print the confusion matrix\n",
    "print(\"Support Vector Machine Confusion Matrix:\")\n",
    "print(confusion_matrix(y_test, svm_pred))"
   ]
  },
  {
   "cell_type": "code",
   "execution_count": 21,
   "id": "f2f0d13b-46c1-4356-901d-5aa3dc145cf1",
   "metadata": {},
   "outputs": [
    {
     "name": "stdout",
     "output_type": "stream",
     "text": [
      "k-Nearest Neighbors Accuracy: 0.9473684210526315\n",
      "k-Nearest Neighbors Classification Report:\n",
      "              precision    recall  f1-score   support\n",
      "\n",
      "           0       0.93      0.93      0.93        43\n",
      "           1       0.96      0.96      0.96        71\n",
      "\n",
      "    accuracy                           0.95       114\n",
      "   macro avg       0.94      0.94      0.94       114\n",
      "weighted avg       0.95      0.95      0.95       114\n",
      "\n",
      "k-Nearest Neighbors Confusion Matrix:\n",
      "[[40  3]\n",
      " [ 3 68]]\n"
     ]
    }
   ],
   "source": [
    "from sklearn.neighbors import KNeighborsClassifier\n",
    "from sklearn.metrics import accuracy_score, classification_report, confusion_matrix\n",
    "\n",
    "#Initialize the KNeighborsClassifier object\n",
    "knn_model = KNeighborsClassifier(n_neighbors=5)\n",
    "\n",
    "#Fit the model to the training data\n",
    "knn_model.fit(X_train_scaled, y_train)\n",
    "\n",
    "#Make predictions on the testing data\n",
    "knn_pred = knn_model.predict(X_test_scaled)\n",
    "\n",
    "#Print the accuracy of the model\n",
    "print(\"k-Nearest Neighbors Accuracy:\", accuracy_score(y_test, knn_pred))\n",
    "\n",
    "#Print the classification report\n",
    "print(\"k-Nearest Neighbors Classification Report:\")\n",
    "print(classification_report(y_test, knn_pred))\n",
    "\n",
    "#Print the confusion matrix\n",
    "print(\"k-Nearest Neighbors Confusion Matrix:\")\n",
    "print(confusion_matrix(y_test, knn_pred))"
   ]
  },
  {
   "cell_type": "code",
   "execution_count": 23,
   "id": "6f9fc272-69b6-4e20-a9a6-fb273663d2a9",
   "metadata": {},
   "outputs": [
    {
     "name": "stdout",
     "output_type": "stream",
     "text": [
      "Logistic Regression Accuracy: 0.9736842105263158\n",
      "Decision Tree Accuracy: 0.9473684210526315\n",
      "Random Forest Accuracy: 0.9649122807017544\n",
      "SVM Accuracy: 0.956140350877193\n",
      "k-NN Accuracy: 0.9473684210526315\n"
     ]
    }
   ],
   "source": [
    "from sklearn.metrics import accuracy_score, classification_report, confusion_matrix\n",
    "\n",
    "#Calculate the accuracy of each model\n",
    "lr_accuracy = accuracy_score(y_test, lr_pred)\n",
    "dt_accuracy = accuracy_score(y_test, dt_pred)\n",
    "rf_accuracy = accuracy_score(y_test, rf_pred)\n",
    "svm_accuracy = accuracy_score(y_test, svm_pred)\n",
    "knn_accuracy = accuracy_score(y_test, knn_pred)\n",
    "\n",
    "#Print the accuracy of each model\n",
    "print(\"Logistic Regression Accuracy:\", lr_accuracy)\n",
    "print(\"Decision Tree Accuracy:\", dt_accuracy)\n",
    "print(\"Random Forest Accuracy:\", rf_accuracy)\n",
    "print(\"SVM Accuracy:\", svm_accuracy)\n",
    "print(\"k-NN Accuracy:\", knn_accuracy)"
   ]
  }
 ],
 "metadata": {
  "kernelspec": {
   "display_name": "Python 3 (ipykernel)",
   "language": "python",
   "name": "python3"
  },
  "language_info": {
   "codemirror_mode": {
    "name": "ipython",
    "version": 3
   },
   "file_extension": ".py",
   "mimetype": "text/x-python",
   "name": "python",
   "nbconvert_exporter": "python",
   "pygments_lexer": "ipython3",
   "version": "3.12.4"
  }
 },
 "nbformat": 4,
 "nbformat_minor": 5
}
